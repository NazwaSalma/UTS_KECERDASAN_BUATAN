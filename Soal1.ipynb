{
  "nbformat": 4,
  "nbformat_minor": 0,
  "metadata": {
    "colab": {
      "provenance": [],
      "authorship_tag": "ABX9TyNL4iEhwQb5TmFZjMmodn+g",
      "include_colab_link": true
    },
    "kernelspec": {
      "name": "python3",
      "display_name": "Python 3"
    },
    "language_info": {
      "name": "python"
    }
  },
  "cells": [
    {
      "cell_type": "markdown",
      "metadata": {
        "id": "view-in-github",
        "colab_type": "text"
      },
      "source": [
        "<a href=\"https://colab.research.google.com/github/NazwaSalma/UTS_KECERDASAN_BUATAN/blob/main/Soal1.ipynb\" target=\"_parent\"><img src=\"https://colab.research.google.com/assets/colab-badge.svg\" alt=\"Open In Colab\"/></a>"
      ]
    },
    {
      "cell_type": "markdown",
      "source": [
        "Soal 1(Kode PYTHON)\n"
      ],
      "metadata": {
        "id": "2BCEMuCOfp2P"
      }
    },
    {
      "cell_type": "code",
      "source": [
        "def tanya_gejala(gejala):\n",
        "    while True:\n",
        "        jawaban = input(f\"Apakah tanaman mengalami gejala '{gejala}'? (y/n): \").strip().lower()\n",
        "        if jawaban in ('y', 'n'):\n",
        "            return jawaban == 'y'\n",
        "        else:\n",
        "            print(\"Input tidak valid. Masukkan 'y' untuk ya atau 'n' untuk tidak.\")\n",
        "\n",
        "def deteksi_hama():\n",
        "    print(\"=== SISTEM DETEKSI HAMA TANAMAN ===\")\n",
        "    print(\"Silakan jawab pertanyaan berikut dengan 'y' (ya) atau 'n' (tidak).\")\n",
        "    print(\"-\" * 40)\n",
        "\n",
        "    # Mengumpulkan gejala\n",
        "    daun_menguning = tanya_gejala(\"daun menguning\")\n",
        "    bercak_hitam = tanya_gejala(\"terdapat bercak hitam\")\n",
        "    daun_berlubang = tanya_gejala(\"daun berlubang\")\n",
        "    tanaman_layu = tanya_gejala(\"tanaman layu\")\n",
        "\n",
        "    print(\"-\" * 40)\n",
        "\n",
        "    # Menentukan jenis hama berdasarkan kombinasi gejala\n",
        "    if daun_menguning and tanaman_layu:\n",
        "        print(\"Hasil Deteksi: Hama yang terdeteksi adalah Ulat Tanah.\")\n",
        "    elif daun_menguning and bercak_hitam:\n",
        "        print(\"Hasil Deteksi: Hama yang terdeteksi adalah Thrips.\")\n",
        "    elif daun_berlubang and bercak_hitam:\n",
        "        print(\"Hasil Deteksi: Hama yang terdeteksi adalah Kumbang Daun.\")\n",
        "    elif daun_berlubang and tanaman_layu:\n",
        "        print(\"Hasil Deteksi: Hama yang terdeteksi adalah Belalang.\")\n",
        "    else:\n",
        "        print(\"Hasil Deteksi: Tidak dapat menentukan jenis hama berdasarkan gejala yang diberikan.\")\n",
        "\n",
        "    print(\"Terima kasih telah menggunakan sistem deteksi ini.\")\n",
        "\n",
        "# Menjalankan program\n",
        "if __name__ == \"__main__\":\n",
        "    deteksi_hama()"
      ],
      "metadata": {
        "colab": {
          "base_uri": "https://localhost:8080/"
        },
        "id": "Q9ML1ZJ9f035",
        "outputId": "ef18614c-0936-4d6f-9cc7-58d0235d296c"
      },
      "execution_count": 2,
      "outputs": [
        {
          "output_type": "stream",
          "name": "stdout",
          "text": [
            "=== SISTEM DETEKSI HAMA TANAMAN ===\n",
            "Silakan jawab pertanyaan berikut dengan 'y' (ya) atau 'n' (tidak).\n",
            "----------------------------------------\n",
            "Apakah tanaman mengalami gejala 'daun menguning'? (y/n): y\n",
            "Apakah tanaman mengalami gejala 'terdapat bercak hitam'? (y/n): y\n",
            "Apakah tanaman mengalami gejala 'daun berlubang'? (y/n): y\n",
            "Apakah tanaman mengalami gejala 'tanaman layu'? (y/n): y\n",
            "----------------------------------------\n",
            "Hasil Deteksi: Hama yang terdeteksi adalah Ulat Tanah.\n",
            "Terima kasih telah menggunakan sistem deteksi ini.\n"
          ]
        }
      ]
    }
  ]
}